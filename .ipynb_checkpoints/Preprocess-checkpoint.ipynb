{
 "cells": [
  {
   "cell_type": "code",
   "execution_count": 1,
   "metadata": {},
   "outputs": [],
   "source": [
    "import json\n",
    "import re\n",
    "from tqdm import tqdm\n",
    "import pandas as pd\n",
    "import torch\n",
    "import numpy as np\n",
    "import random\n",
    "from itertools import islice\n",
    "from random import randint\n",
    "from model import Encoder1\n",
    "from transformers import AdamW, get_linear_schedule_with_warmup\n",
    "from transformers import BigBirdTokenizer, BigBirdForSequenceClassification\n",
    "from torch.utils.data import TensorDataset, random_split, DataLoader, RandomSampler, SequentialSampler"
   ]
  },
  {
   "cell_type": "code",
   "execution_count": 2,
   "metadata": {},
   "outputs": [],
   "source": [
    "def same_seeds(seed):\n",
    "    torch.manual_seed(seed)\n",
    "    if torch.cuda.is_available():\n",
    "        torch.cuda.set_device(3)\n",
    "    np.random.seed(seed)\n",
    "    random.seed(seed)\n",
    "    torch.backends.cudnn.benchmark = False\n",
    "    torch.backends.cudnn.deterministic = True\n",
    "same_seeds(42)"
   ]
  },
  {
   "cell_type": "code",
   "execution_count": 3,
   "metadata": {},
   "outputs": [],
   "source": [
    "# device setting\n",
    "device = torch.device(\"cuda\" if torch.cuda.is_available() else \"cpu\")\n",
    "n_gpu = torch.cuda.device_count()"
   ]
  },
  {
   "cell_type": "code",
   "execution_count": 4,
   "metadata": {
    "scrolled": true
   },
   "outputs": [
    {
     "data": {
      "text/html": [
       "<div>\n",
       "<style scoped>\n",
       "    .dataframe tbody tr th:only-of-type {\n",
       "        vertical-align: middle;\n",
       "    }\n",
       "\n",
       "    .dataframe tbody tr th {\n",
       "        vertical-align: top;\n",
       "    }\n",
       "\n",
       "    .dataframe thead th {\n",
       "        text-align: right;\n",
       "    }\n",
       "</style>\n",
       "<table border=\"1\" class=\"dataframe\">\n",
       "  <thead>\n",
       "    <tr style=\"text-align: right;\">\n",
       "      <th></th>\n",
       "      <th>topic</th>\n",
       "      <th>doc</th>\n",
       "    </tr>\n",
       "  </thead>\n",
       "  <tbody>\n",
       "    <tr>\n",
       "      <th>0</th>\n",
       "      <td>2</td>\n",
       "      <td>2740164 2759595 2759599 2767143 2911928 291756...</td>\n",
       "    </tr>\n",
       "    <tr>\n",
       "      <th>1</th>\n",
       "      <td>4</td>\n",
       "      <td>1459158 2529301 2700561 2769425 2835690 283699...</td>\n",
       "    </tr>\n",
       "    <tr>\n",
       "      <th>2</th>\n",
       "      <td>6</td>\n",
       "      <td>1533809 1910597 2503992 2577108 2703746 272215...</td>\n",
       "    </tr>\n",
       "    <tr>\n",
       "      <th>3</th>\n",
       "      <td>9</td>\n",
       "      <td>1090616 1679810 2627448 2629012 2645689 271457...</td>\n",
       "    </tr>\n",
       "    <tr>\n",
       "      <th>4</th>\n",
       "      <td>11</td>\n",
       "      <td>1892007 2275746 2503962 2516438 2688349 276296...</td>\n",
       "    </tr>\n",
       "  </tbody>\n",
       "</table>\n",
       "</div>"
      ],
      "text/plain": [
       "   topic                                                doc\n",
       "0      2  2740164 2759595 2759599 2767143 2911928 291756...\n",
       "1      4  1459158 2529301 2700561 2769425 2835690 283699...\n",
       "2      6  1533809 1910597 2503992 2577108 2703746 272215...\n",
       "3      9  1090616 1679810 2627448 2629012 2645689 271457...\n",
       "4     11  1892007 2275746 2503962 2516438 2688349 276296..."
      ]
     },
     "execution_count": 4,
     "metadata": {},
     "output_type": "execute_result"
    }
   ],
   "source": [
    "train_ans = pd.read_csv('dataset/train_ans.csv')\n",
    "train_ans.head() # 7913"
   ]
  },
  {
   "cell_type": "code",
   "execution_count": 5,
   "metadata": {
    "scrolled": true
   },
   "outputs": [
    {
     "data": {
      "text/html": [
       "<div>\n",
       "<style scoped>\n",
       "    .dataframe tbody tr th:only-of-type {\n",
       "        vertical-align: middle;\n",
       "    }\n",
       "\n",
       "    .dataframe tbody tr th {\n",
       "        vertical-align: top;\n",
       "    }\n",
       "\n",
       "    .dataframe thead th {\n",
       "        text-align: right;\n",
       "    }\n",
       "</style>\n",
       "<table border=\"1\" class=\"dataframe\">\n",
       "  <thead>\n",
       "    <tr style=\"text-align: right;\">\n",
       "      <th></th>\n",
       "      <th>topic</th>\n",
       "      <th>doc</th>\n",
       "    </tr>\n",
       "  </thead>\n",
       "  <tbody>\n",
       "    <tr>\n",
       "      <th>0</th>\n",
       "      <td>2</td>\n",
       "      <td>[2740164, 2759595, 2759599, 2767143, 2911928, ...</td>\n",
       "    </tr>\n",
       "    <tr>\n",
       "      <th>1</th>\n",
       "      <td>4</td>\n",
       "      <td>[1459158, 2529301, 2700561, 2769425, 2835690, ...</td>\n",
       "    </tr>\n",
       "    <tr>\n",
       "      <th>2</th>\n",
       "      <td>6</td>\n",
       "      <td>[1533809, 1910597, 2503992, 2577108, 2703746, ...</td>\n",
       "    </tr>\n",
       "    <tr>\n",
       "      <th>3</th>\n",
       "      <td>9</td>\n",
       "      <td>[1090616, 1679810, 2627448, 2629012, 2645689, ...</td>\n",
       "    </tr>\n",
       "    <tr>\n",
       "      <th>4</th>\n",
       "      <td>11</td>\n",
       "      <td>[1892007, 2275746, 2503962, 2516438, 2688349, ...</td>\n",
       "    </tr>\n",
       "  </tbody>\n",
       "</table>\n",
       "</div>"
      ],
      "text/plain": [
       "   topic                                                doc\n",
       "0      2  [2740164, 2759595, 2759599, 2767143, 2911928, ...\n",
       "1      4  [1459158, 2529301, 2700561, 2769425, 2835690, ...\n",
       "2      6  [1533809, 1910597, 2503992, 2577108, 2703746, ...\n",
       "3      9  [1090616, 1679810, 2627448, 2629012, 2645689, ...\n",
       "4     11  [1892007, 2275746, 2503962, 2516438, 2688349, ..."
      ]
     },
     "execution_count": 5,
     "metadata": {},
     "output_type": "execute_result"
    }
   ],
   "source": [
    "train_ans['doc'] = train_ans['doc'].str.strip(',').str.split(' ')\n",
    "train_ans.head()"
   ]
  },
  {
   "cell_type": "code",
   "execution_count": 6,
   "metadata": {},
   "outputs": [
    {
     "data": {
      "text/html": [
       "<div>\n",
       "<style scoped>\n",
       "    .dataframe tbody tr th:only-of-type {\n",
       "        vertical-align: middle;\n",
       "    }\n",
       "\n",
       "    .dataframe tbody tr th {\n",
       "        vertical-align: top;\n",
       "    }\n",
       "\n",
       "    .dataframe thead th {\n",
       "        text-align: right;\n",
       "    }\n",
       "</style>\n",
       "<table border=\"1\" class=\"dataframe\">\n",
       "  <thead>\n",
       "    <tr style=\"text-align: right;\">\n",
       "      <th></th>\n",
       "      <th>doc</th>\n",
       "      <th>document</th>\n",
       "    </tr>\n",
       "  </thead>\n",
       "  <tbody>\n",
       "    <tr>\n",
       "      <th>0</th>\n",
       "      <td>13915</td>\n",
       "      <td>Background: Resistance to mammary tumorigenesi...</td>\n",
       "    </tr>\n",
       "    <tr>\n",
       "      <th>1</th>\n",
       "      <td>15027</td>\n",
       "      <td>Background: Standard archival sequence databas...</td>\n",
       "    </tr>\n",
       "    <tr>\n",
       "      <th>2</th>\n",
       "      <td>17824</td>\n",
       "      <td>Our results show that cytokines derived from m...</td>\n",
       "    </tr>\n",
       "    <tr>\n",
       "      <th>3</th>\n",
       "      <td>28992</td>\n",
       "      <td>Background: This study evaluated the feasibili...</td>\n",
       "    </tr>\n",
       "    <tr>\n",
       "      <th>4</th>\n",
       "      <td>28996</td>\n",
       "      <td>Background: In order to test the hypothesis th...</td>\n",
       "    </tr>\n",
       "  </tbody>\n",
       "</table>\n",
       "</div>"
      ],
      "text/plain": [
       "     doc                                           document\n",
       "0  13915  Background: Resistance to mammary tumorigenesi...\n",
       "1  15027  Background: Standard archival sequence databas...\n",
       "2  17824  Our results show that cytokines derived from m...\n",
       "3  28992  Background: This study evaluated the feasibili...\n",
       "4  28996  Background: In order to test the hypothesis th..."
      ]
     },
     "execution_count": 6,
     "metadata": {},
     "output_type": "execute_result"
    }
   ],
   "source": [
    "document = pd.read_csv('document.csv')\n",
    "document.head()"
   ]
  },
  {
   "cell_type": "code",
   "execution_count": 7,
   "metadata": {},
   "outputs": [
    {
     "name": "stderr",
     "output_type": "stream",
     "text": [
      "/share/home/chyiin/.local/lib/python3.6/site-packages/ipykernel_launcher.py:3: SettingWithCopyWarning: \n",
      "A value is trying to be set on a copy of a slice from a DataFrame\n",
      "\n",
      "See the caveats in the documentation: https://pandas.pydata.org/pandas-docs/stable/user_guide/indexing.html#returning-a-view-versus-a-copy\n",
      "  This is separate from the ipykernel package so we can avoid doing imports until\n",
      "/share/home/chyiin/.local/lib/python3.6/site-packages/pandas/core/indexing.py:670: SettingWithCopyWarning: \n",
      "A value is trying to be set on a copy of a slice from a DataFrame\n",
      "\n",
      "See the caveats in the documentation: https://pandas.pydata.org/pandas-docs/stable/user_guide/indexing.html#returning-a-view-versus-a-copy\n",
      "  iloc._setitem_with_indexer(indexer, value)\n"
     ]
    }
   ],
   "source": [
    "document['short_doc'] = 0\n",
    "for i in range(len(document['document'])):\n",
    "    document['short_doc'][i] = document['document'][i][0:500]"
   ]
  },
  {
   "cell_type": "code",
   "execution_count": 8,
   "metadata": {},
   "outputs": [
    {
     "data": {
      "text/html": [
       "<div>\n",
       "<style scoped>\n",
       "    .dataframe tbody tr th:only-of-type {\n",
       "        vertical-align: middle;\n",
       "    }\n",
       "\n",
       "    .dataframe tbody tr th {\n",
       "        vertical-align: top;\n",
       "    }\n",
       "\n",
       "    .dataframe thead th {\n",
       "        text-align: right;\n",
       "    }\n",
       "</style>\n",
       "<table border=\"1\" class=\"dataframe\">\n",
       "  <thead>\n",
       "    <tr style=\"text-align: right;\">\n",
       "      <th></th>\n",
       "      <th>doc</th>\n",
       "      <th>document</th>\n",
       "      <th>short_doc</th>\n",
       "    </tr>\n",
       "  </thead>\n",
       "  <tbody>\n",
       "    <tr>\n",
       "      <th>0</th>\n",
       "      <td>13915</td>\n",
       "      <td>Background: Resistance to mammary tumorigenesi...</td>\n",
       "      <td>Background: Resistance to mammary tumorigenesi...</td>\n",
       "    </tr>\n",
       "    <tr>\n",
       "      <th>1</th>\n",
       "      <td>15027</td>\n",
       "      <td>Background: Standard archival sequence databas...</td>\n",
       "      <td>Background: Standard archival sequence databas...</td>\n",
       "    </tr>\n",
       "    <tr>\n",
       "      <th>2</th>\n",
       "      <td>17824</td>\n",
       "      <td>Our results show that cytokines derived from m...</td>\n",
       "      <td>Our results show that cytokines derived from m...</td>\n",
       "    </tr>\n",
       "    <tr>\n",
       "      <th>3</th>\n",
       "      <td>28992</td>\n",
       "      <td>Background: This study evaluated the feasibili...</td>\n",
       "      <td>Background: This study evaluated the feasibili...</td>\n",
       "    </tr>\n",
       "    <tr>\n",
       "      <th>4</th>\n",
       "      <td>28996</td>\n",
       "      <td>Background: In order to test the hypothesis th...</td>\n",
       "      <td>Background: In order to test the hypothesis th...</td>\n",
       "    </tr>\n",
       "  </tbody>\n",
       "</table>\n",
       "</div>"
      ],
      "text/plain": [
       "     doc                                           document  \\\n",
       "0  13915  Background: Resistance to mammary tumorigenesi...   \n",
       "1  15027  Background: Standard archival sequence databas...   \n",
       "2  17824  Our results show that cytokines derived from m...   \n",
       "3  28992  Background: This study evaluated the feasibili...   \n",
       "4  28996  Background: In order to test the hypothesis th...   \n",
       "\n",
       "                                           short_doc  \n",
       "0  Background: Resistance to mammary tumorigenesi...  \n",
       "1  Background: Standard archival sequence databas...  \n",
       "2  Our results show that cytokines derived from m...  \n",
       "3  Background: This study evaluated the feasibili...  \n",
       "4  Background: In order to test the hypothesis th...  "
      ]
     },
     "execution_count": 8,
     "metadata": {},
     "output_type": "execute_result"
    }
   ],
   "source": [
    "document.head()"
   ]
  },
  {
   "cell_type": "code",
   "execution_count": 9,
   "metadata": {},
   "outputs": [
    {
     "data": {
      "text/html": [
       "<div>\n",
       "<style scoped>\n",
       "    .dataframe tbody tr th:only-of-type {\n",
       "        vertical-align: middle;\n",
       "    }\n",
       "\n",
       "    .dataframe tbody tr th {\n",
       "        vertical-align: top;\n",
       "    }\n",
       "\n",
       "    .dataframe thead th {\n",
       "        text-align: right;\n",
       "    }\n",
       "</style>\n",
       "<table border=\"1\" class=\"dataframe\">\n",
       "  <thead>\n",
       "    <tr style=\"text-align: right;\">\n",
       "      <th></th>\n",
       "      <th>topic</th>\n",
       "      <th>train_query</th>\n",
       "    </tr>\n",
       "  </thead>\n",
       "  <tbody>\n",
       "    <tr>\n",
       "      <th>0</th>\n",
       "      <td>2</td>\n",
       "      <td>An elderly female with past medical history of...</td>\n",
       "    </tr>\n",
       "    <tr>\n",
       "      <th>1</th>\n",
       "      <td>4</td>\n",
       "      <td>An 87 yo woman with h/o osteoporosis, DM2, dem...</td>\n",
       "    </tr>\n",
       "    <tr>\n",
       "      <th>2</th>\n",
       "      <td>6</td>\n",
       "      <td>A 94 year old female with hx recent PE/DVT, at...</td>\n",
       "    </tr>\n",
       "    <tr>\n",
       "      <th>3</th>\n",
       "      <td>9</td>\n",
       "      <td>Infant with respiratory distress syndrome and ...</td>\n",
       "    </tr>\n",
       "    <tr>\n",
       "      <th>4</th>\n",
       "      <td>11</td>\n",
       "      <td>80 yo male with demantia and past medical hist...</td>\n",
       "    </tr>\n",
       "  </tbody>\n",
       "</table>\n",
       "</div>"
      ],
      "text/plain": [
       "   topic                                        train_query\n",
       "0      2  An elderly female with past medical history of...\n",
       "1      4  An 87 yo woman with h/o osteoporosis, DM2, dem...\n",
       "2      6  A 94 year old female with hx recent PE/DVT, at...\n",
       "3      9  Infant with respiratory distress syndrome and ...\n",
       "4     11  80 yo male with demantia and past medical hist..."
      ]
     },
     "execution_count": 9,
     "metadata": {},
     "output_type": "execute_result"
    }
   ],
   "source": [
    "train_query = pd.read_csv('train_query.csv')\n",
    "train_query.head()"
   ]
  },
  {
   "cell_type": "code",
   "execution_count": 10,
   "metadata": {},
   "outputs": [
    {
     "name": "stdout",
     "output_type": "stream",
     "text": [
      "1500000\n",
      "1500000\n",
      "1500000\n",
      "1500000\n"
     ]
    }
   ],
   "source": [
    "com_topic = []\n",
    "com_topic_doc = []\n",
    "com_doc = []\n",
    "com_doc_doc = []\n",
    "for i in range(len(train_query['topic'])):\n",
    "    com_topic.extend([train_query['topic'][i]]*document.shape[0])\n",
    "    com_topic_doc.extend([train_query['train_query'][i]]*document.shape[0])\n",
    "    com_doc.extend(document['doc'])\n",
    "    com_doc_doc.extend(document['short_doc'])\n",
    "print(len(com_topic))\n",
    "print(len(com_doc))\n",
    "print(len(com_topic_doc))\n",
    "print(len(com_doc_doc))"
   ]
  },
  {
   "cell_type": "code",
   "execution_count": 11,
   "metadata": {},
   "outputs": [
    {
     "data": {
      "text/html": [
       "<div>\n",
       "<style scoped>\n",
       "    .dataframe tbody tr th:only-of-type {\n",
       "        vertical-align: middle;\n",
       "    }\n",
       "\n",
       "    .dataframe tbody tr th {\n",
       "        vertical-align: top;\n",
       "    }\n",
       "\n",
       "    .dataframe thead th {\n",
       "        text-align: right;\n",
       "    }\n",
       "</style>\n",
       "<table border=\"1\" class=\"dataframe\">\n",
       "  <thead>\n",
       "    <tr style=\"text-align: right;\">\n",
       "      <th></th>\n",
       "      <th>topic</th>\n",
       "      <th>doc</th>\n",
       "      <th>query</th>\n",
       "      <th>document</th>\n",
       "      <th>label</th>\n",
       "    </tr>\n",
       "  </thead>\n",
       "  <tbody>\n",
       "    <tr>\n",
       "      <th>0</th>\n",
       "      <td>2</td>\n",
       "      <td>13915</td>\n",
       "      <td>An elderly female with past medical history of...</td>\n",
       "      <td>Background: Resistance to mammary tumorigenesi...</td>\n",
       "      <td>0</td>\n",
       "    </tr>\n",
       "    <tr>\n",
       "      <th>1</th>\n",
       "      <td>2</td>\n",
       "      <td>15027</td>\n",
       "      <td>An elderly female with past medical history of...</td>\n",
       "      <td>Background: Standard archival sequence databas...</td>\n",
       "      <td>0</td>\n",
       "    </tr>\n",
       "    <tr>\n",
       "      <th>2</th>\n",
       "      <td>2</td>\n",
       "      <td>17824</td>\n",
       "      <td>An elderly female with past medical history of...</td>\n",
       "      <td>Our results show that cytokines derived from m...</td>\n",
       "      <td>0</td>\n",
       "    </tr>\n",
       "    <tr>\n",
       "      <th>3</th>\n",
       "      <td>2</td>\n",
       "      <td>28992</td>\n",
       "      <td>An elderly female with past medical history of...</td>\n",
       "      <td>Background: This study evaluated the feasibili...</td>\n",
       "      <td>0</td>\n",
       "    </tr>\n",
       "    <tr>\n",
       "      <th>4</th>\n",
       "      <td>2</td>\n",
       "      <td>28996</td>\n",
       "      <td>An elderly female with past medical history of...</td>\n",
       "      <td>Background: In order to test the hypothesis th...</td>\n",
       "      <td>0</td>\n",
       "    </tr>\n",
       "  </tbody>\n",
       "</table>\n",
       "</div>"
      ],
      "text/plain": [
       "   topic    doc                                              query  \\\n",
       "0      2  13915  An elderly female with past medical history of...   \n",
       "1      2  15027  An elderly female with past medical history of...   \n",
       "2      2  17824  An elderly female with past medical history of...   \n",
       "3      2  28992  An elderly female with past medical history of...   \n",
       "4      2  28996  An elderly female with past medical history of...   \n",
       "\n",
       "                                            document  label  \n",
       "0  Background: Resistance to mammary tumorigenesi...      0  \n",
       "1  Background: Standard archival sequence databas...      0  \n",
       "2  Our results show that cytokines derived from m...      0  \n",
       "3  Background: This study evaluated the feasibili...      0  \n",
       "4  Background: In order to test the hypothesis th...      0  "
      ]
     },
     "execution_count": 11,
     "metadata": {},
     "output_type": "execute_result"
    }
   ],
   "source": [
    "combine_train = pd.DataFrame({'topic':com_topic, 'doc':com_doc, 'query':com_topic_doc, 'document':com_doc_doc})\n",
    "combine_train['label'] = 0\n",
    "combine_train.head()"
   ]
  },
  {
   "cell_type": "code",
   "execution_count": 12,
   "metadata": {},
   "outputs": [
    {
     "name": "stderr",
     "output_type": "stream",
     "text": [
      "  1%|          | 11036/1500000 [00:00<00:53, 27707.42it/s]/share/home/chyiin/.local/lib/python3.6/site-packages/ipykernel_launcher.py:3: SettingWithCopyWarning: \n",
      "A value is trying to be set on a copy of a slice from a DataFrame\n",
      "\n",
      "See the caveats in the documentation: https://pandas.pydata.org/pandas-docs/stable/user_guide/indexing.html#returning-a-view-versus-a-copy\n",
      "  This is separate from the ipykernel package so we can avoid doing imports until\n",
      "100%|██████████| 1500000/1500000 [01:00<00:00, 24724.76it/s]\n"
     ]
    }
   ],
   "source": [
    "for i in tqdm(range(len(combine_train['topic']))):\n",
    "    if combine_train['doc'][i] in list(map(int, train_ans['doc'][list(train_ans['topic'].values).index(combine_train['topic'][i])])):\n",
    "        combine_train['label'][i] = 1"
   ]
  },
  {
   "cell_type": "code",
   "execution_count": 13,
   "metadata": {},
   "outputs": [],
   "source": [
    "combine_train['combine'] = combine_train['query'] + ' [SEP] ' + combine_train['document']"
   ]
  },
  {
   "cell_type": "code",
   "execution_count": 14,
   "metadata": {},
   "outputs": [
    {
     "data": {
      "text/html": [
       "<div>\n",
       "<style scoped>\n",
       "    .dataframe tbody tr th:only-of-type {\n",
       "        vertical-align: middle;\n",
       "    }\n",
       "\n",
       "    .dataframe tbody tr th {\n",
       "        vertical-align: top;\n",
       "    }\n",
       "\n",
       "    .dataframe thead th {\n",
       "        text-align: right;\n",
       "    }\n",
       "</style>\n",
       "<table border=\"1\" class=\"dataframe\">\n",
       "  <thead>\n",
       "    <tr style=\"text-align: right;\">\n",
       "      <th></th>\n",
       "      <th>topic</th>\n",
       "      <th>doc</th>\n",
       "      <th>query</th>\n",
       "      <th>document</th>\n",
       "      <th>label</th>\n",
       "      <th>combine</th>\n",
       "    </tr>\n",
       "  </thead>\n",
       "  <tbody>\n",
       "    <tr>\n",
       "      <th>0</th>\n",
       "      <td>2</td>\n",
       "      <td>13915</td>\n",
       "      <td>An elderly female with past medical history of...</td>\n",
       "      <td>Background: Resistance to mammary tumorigenesi...</td>\n",
       "      <td>0</td>\n",
       "      <td>An elderly female with past medical history of...</td>\n",
       "    </tr>\n",
       "    <tr>\n",
       "      <th>1</th>\n",
       "      <td>2</td>\n",
       "      <td>15027</td>\n",
       "      <td>An elderly female with past medical history of...</td>\n",
       "      <td>Background: Standard archival sequence databas...</td>\n",
       "      <td>0</td>\n",
       "      <td>An elderly female with past medical history of...</td>\n",
       "    </tr>\n",
       "    <tr>\n",
       "      <th>2</th>\n",
       "      <td>2</td>\n",
       "      <td>17824</td>\n",
       "      <td>An elderly female with past medical history of...</td>\n",
       "      <td>Our results show that cytokines derived from m...</td>\n",
       "      <td>0</td>\n",
       "      <td>An elderly female with past medical history of...</td>\n",
       "    </tr>\n",
       "    <tr>\n",
       "      <th>3</th>\n",
       "      <td>2</td>\n",
       "      <td>28992</td>\n",
       "      <td>An elderly female with past medical history of...</td>\n",
       "      <td>Background: This study evaluated the feasibili...</td>\n",
       "      <td>0</td>\n",
       "      <td>An elderly female with past medical history of...</td>\n",
       "    </tr>\n",
       "    <tr>\n",
       "      <th>4</th>\n",
       "      <td>2</td>\n",
       "      <td>28996</td>\n",
       "      <td>An elderly female with past medical history of...</td>\n",
       "      <td>Background: In order to test the hypothesis th...</td>\n",
       "      <td>0</td>\n",
       "      <td>An elderly female with past medical history of...</td>\n",
       "    </tr>\n",
       "  </tbody>\n",
       "</table>\n",
       "</div>"
      ],
      "text/plain": [
       "   topic    doc                                              query  \\\n",
       "0      2  13915  An elderly female with past medical history of...   \n",
       "1      2  15027  An elderly female with past medical history of...   \n",
       "2      2  17824  An elderly female with past medical history of...   \n",
       "3      2  28992  An elderly female with past medical history of...   \n",
       "4      2  28996  An elderly female with past medical history of...   \n",
       "\n",
       "                                            document  label  \\\n",
       "0  Background: Resistance to mammary tumorigenesi...      0   \n",
       "1  Background: Standard archival sequence databas...      0   \n",
       "2  Our results show that cytokines derived from m...      0   \n",
       "3  Background: This study evaluated the feasibili...      0   \n",
       "4  Background: In order to test the hypothesis th...      0   \n",
       "\n",
       "                                             combine  \n",
       "0  An elderly female with past medical history of...  \n",
       "1  An elderly female with past medical history of...  \n",
       "2  An elderly female with past medical history of...  \n",
       "3  An elderly female with past medical history of...  \n",
       "4  An elderly female with past medical history of...  "
      ]
     },
     "execution_count": 14,
     "metadata": {},
     "output_type": "execute_result"
    }
   ],
   "source": [
    "combine_train.head()"
   ]
  },
  {
   "cell_type": "code",
   "execution_count": 15,
   "metadata": {
    "scrolled": true
   },
   "outputs": [
    {
     "data": {
      "text/html": [
       "<div>\n",
       "<style scoped>\n",
       "    .dataframe tbody tr th:only-of-type {\n",
       "        vertical-align: middle;\n",
       "    }\n",
       "\n",
       "    .dataframe tbody tr th {\n",
       "        vertical-align: top;\n",
       "    }\n",
       "\n",
       "    .dataframe thead th {\n",
       "        text-align: right;\n",
       "    }\n",
       "</style>\n",
       "<table border=\"1\" class=\"dataframe\">\n",
       "  <thead>\n",
       "    <tr style=\"text-align: right;\">\n",
       "      <th></th>\n",
       "      <th>topic</th>\n",
       "      <th>test_query</th>\n",
       "    </tr>\n",
       "  </thead>\n",
       "  <tbody>\n",
       "    <tr>\n",
       "      <th>0</th>\n",
       "      <td>1</td>\n",
       "      <td>A 78 year old male presents with frequent stoo...</td>\n",
       "    </tr>\n",
       "    <tr>\n",
       "      <th>1</th>\n",
       "      <td>3</td>\n",
       "      <td>A 75F found to be hypoglycemic with hypotensio...</td>\n",
       "    </tr>\n",
       "    <tr>\n",
       "      <th>2</th>\n",
       "      <td>5</td>\n",
       "      <td>An 82 man with multiple chronic conditions and...</td>\n",
       "    </tr>\n",
       "    <tr>\n",
       "      <th>3</th>\n",
       "      <td>7</td>\n",
       "      <td>A 41-year-old male patient with medical histor...</td>\n",
       "    </tr>\n",
       "    <tr>\n",
       "      <th>4</th>\n",
       "      <td>8</td>\n",
       "      <td>A 26 year-old diabetic woman, estimated to 10 ...</td>\n",
       "    </tr>\n",
       "  </tbody>\n",
       "</table>\n",
       "</div>"
      ],
      "text/plain": [
       "   topic                                         test_query\n",
       "0      1  A 78 year old male presents with frequent stoo...\n",
       "1      3  A 75F found to be hypoglycemic with hypotensio...\n",
       "2      5  An 82 man with multiple chronic conditions and...\n",
       "3      7  A 41-year-old male patient with medical histor...\n",
       "4      8  A 26 year-old diabetic woman, estimated to 10 ..."
      ]
     },
     "execution_count": 15,
     "metadata": {},
     "output_type": "execute_result"
    }
   ],
   "source": [
    "test_query = pd.read_csv('test_query.csv')\n",
    "test_query.head()"
   ]
  },
  {
   "cell_type": "code",
   "execution_count": 16,
   "metadata": {},
   "outputs": [
    {
     "name": "stderr",
     "output_type": "stream",
     "text": [
      "Some weights of the model checkpoint at google/bigbird-roberta-base were not used when initializing BigBirdForSequenceClassification: ['cls.predictions.decoder.bias', 'cls.predictions.decoder.weight', 'cls.predictions.bias', 'cls.predictions.transform.LayerNorm.weight', 'cls.predictions.transform.LayerNorm.bias', 'cls.seq_relationship.weight', 'cls.predictions.transform.dense.bias', 'cls.predictions.transform.dense.weight', 'cls.seq_relationship.bias']\n",
      "- This IS expected if you are initializing BigBirdForSequenceClassification from the checkpoint of a model trained on another task or with another architecture (e.g. initializing a BertForSequenceClassification model from a BertForPreTraining model).\n",
      "- This IS NOT expected if you are initializing BigBirdForSequenceClassification from the checkpoint of a model that you expect to be exactly identical (initializing a BertForSequenceClassification model from a BertForSequenceClassification model).\n",
      "Some weights of BigBirdForSequenceClassification were not initialized from the model checkpoint at google/bigbird-roberta-base and are newly initialized: ['classifier.dense.weight', 'classifier.dense.bias', 'classifier.out_proj.weight', 'classifier.out_proj.bias']\n",
      "You should probably TRAIN this model on a down-stream task to be able to use it for predictions and inference.\n"
     ]
    }
   ],
   "source": [
    "tokenizer = BigBirdTokenizer.from_pretrained('google/bigbird-roberta-base')\n",
    "model = BigBirdForSequenceClassification.from_pretrained('google/bigbird-roberta-base', num_labels = 2)"
   ]
  },
  {
   "cell_type": "code",
   "execution_count": 17,
   "metadata": {},
   "outputs": [],
   "source": [
    "def tokenize(text, tokenizer, label=None):\n",
    "\n",
    "    input_ids = []\n",
    "    attention_masks = []\n",
    "\n",
    "    for sent in tqdm(text):\n",
    "\n",
    "        encoded_dict = tokenizer.encode_plus(sent,                      # Sentence to encode.\n",
    "                            add_special_tokens = True, # Add '[CLS]' and '[SEP]'\n",
    "                            max_length = 1024,           # Pad & truncate all sentences.\n",
    "                            pad_to_max_length = True,\n",
    "                            return_attention_mask = True,   # Construct attn. masks.\n",
    "                            return_tensors = 'pt',     # Return pytorch tensors.\n",
    "                    )\n",
    "        input_ids.append(encoded_dict['input_ids'])\n",
    "        attention_masks.append(encoded_dict['attention_mask'])\n",
    "        \n",
    "    input_ids.append(encoded_dict['input_ids'])\n",
    "    attention_masks.append(encoded_dict['attention_mask'])\n",
    "    if label is not None:  \n",
    "        labels = torch.tensor(label)\n",
    "        return input_ids, attention_masks, labels\n",
    "    return input_ids, attention_masks"
   ]
  },
  {
   "cell_type": "code",
   "execution_count": 18,
   "metadata": {},
   "outputs": [
    {
     "data": {
      "text/plain": [
       "{0: 0, 1: 1}"
      ]
     },
     "execution_count": 18,
     "metadata": {},
     "output_type": "execute_result"
    }
   ],
   "source": [
    "label_dict = {0: 0, 1: 1}\n",
    "label_dict_inverse = {v: k for k, v in label_dict.items()}\n",
    "label_dict_inverse"
   ]
  },
  {
   "cell_type": "code",
   "execution_count": null,
   "metadata": {},
   "outputs": [
    {
     "name": "stderr",
     "output_type": "stream",
     "text": [
      "  0%|          | 0/1500000 [00:00<?, ?it/s]Truncation was not explicitly activated but `max_length` is provided a specific value, please use `truncation=True` to explicitly truncate examples to max length. Defaulting to 'longest_first' truncation strategy. If you encode pairs of sequences (GLUE-style) with the tokenizer you can select this strategy more precisely by providing a specific strategy to `truncation`.\n",
      "/share/home/chyiin/.local/lib/python3.6/site-packages/transformers/tokenization_utils_base.py:2132: FutureWarning: The `pad_to_max_length` argument is deprecated and will be removed in a future version, use `padding=True` or `padding='longest'` to pad to the longest sequence in the batch, or use `padding='max_length'` to pad to a max length. In this case, you can give a specific length with `max_length` (e.g. `max_length=45`) or leave max_length to None to pad to the maximal input size of the model (e.g. 512 for Bert).\n",
      "  FutureWarning,\n",
      " 57%|█████▋    | 857527/1500000 [11:17<09:49, 1089.11it/s]"
     ]
    }
   ],
   "source": [
    "train_input_ids, train_attention_masks, train_labels = tokenize(combine_train['combine'], tokenizer, combine_train['label'])"
   ]
  },
  {
   "cell_type": "code",
   "execution_count": null,
   "metadata": {},
   "outputs": [],
   "source": [
    "input_ids = torch.cat(train_input_ids, dim=0)\n",
    "attention_masks = torch.cat(train_attention_masks, dim=0)"
   ]
  },
  {
   "cell_type": "code",
   "execution_count": null,
   "metadata": {},
   "outputs": [],
   "source": [
    "# Combine the training inputs into a TensorDataset.\n",
    "dataset = TensorDataset(input_ids, attention_masks, train_labels)\n",
    "\n",
    "# Create a train-validation split.\n",
    "train_size = int(0.2 * len(dataset))\n",
    "valid_size = len(dataset) - train_size\n",
    "\n",
    "# Divide the dataset by randomly selecting samples.\n",
    "train_dataset, valid_dataset = random_split(dataset, [train_size, valid_size])\n",
    "\n",
    "batch_size = 4"
   ]
  },
  {
   "cell_type": "code",
   "execution_count": null,
   "metadata": {},
   "outputs": [],
   "source": [
    "train_dataloader = DataLoader(train_dataset, sampler = RandomSampler(train_dataset), batch_size = 4)\n",
    "valid_dataloader = DataLoader(valid_dataset,sampler = SequentialSampler(valid_dataset),batch_size = 4)"
   ]
  },
  {
   "cell_type": "code",
   "execution_count": null,
   "metadata": {},
   "outputs": [],
   "source": [
    "EPOCHS = 10\n",
    "\n",
    "optimizer = torch.optim.Adam(model.parameters(), lr=5e-5)#, betas=BETAS, eps=EPS)     \n",
    "# Create the learning rate scheduler.\n",
    "scheduler = get_linear_schedule_with_warmup(\n",
    "    optimizer,\n",
    "    num_warmup_steps=0,\n",
    "    num_training_steps=len(train_dataloader)*EPOCHS\n",
    ")"
   ]
  },
  {
   "cell_type": "code",
   "execution_count": null,
   "metadata": {},
   "outputs": [],
   "source": [
    "loss_values, validation_loss_values, valid_acc = [], [100], [0]\n",
    "patient = 0\n",
    "for _ in range(EPOCHS):\n",
    "\n",
    "    model.train()\n",
    "    total_loss = 0\n",
    "\n",
    "    # Training loop\n",
    "    for step, batch in tqdm(enumerate(train_dataloader)):\n",
    "\n",
    "        # add batch to gpu\n",
    "        batch = tuple(t.to(device) for t in batch)\n",
    "        b_input_ids, b_input_mask, b_labels = batch\n",
    "        model.zero_grad()\n",
    "\n",
    "        outputs = model(b_input_ids, token_type_ids=None,\n",
    "                        attention_mask=b_input_mask, labels=b_labels)\n",
    "        # get the loss\n",
    "        loss = outputs[0]\n",
    "        # Perform a backward pass to calculate the gradients.\n",
    "        loss.backward()\n",
    "        # track train loss\n",
    "        total_loss += loss.item()\n",
    "        # Clip the norm of the gradient\n",
    "        torch.nn.utils.clip_grad_norm_(parameters=model.parameters(), max_norm=MAX_GRAD_NORM)\n",
    "        # update parameters\n",
    "        optimizer.step()\n",
    "        # Update the learning rate.\n",
    "        scheduler.step()\n",
    "\n",
    "    avg_train_loss = total_loss / len(train_dataloader)\n",
    "\n",
    "    model.eval()\n",
    "\n",
    "    # Reset the validation loss for this epoch.\n",
    "    eval_loss, eval_accuracy = 0, 0\n",
    "    nb_eval_steps, nb_eval_examples = 0, 0\n",
    "    predictions , true_labels = [], []\n",
    "\n",
    "    for batch in valid_dataloader:\n",
    "        batch = tuple(t.to(device) for t in batch)\n",
    "        b_input_ids, b_input_mask, b_labels = batch\n",
    "\n",
    "        # saving memory and speeding up validation\n",
    "        with torch.no_grad():\n",
    "\n",
    "            outputs = model(b_input_ids, token_type_ids=None,\n",
    "                            attention_mask=b_input_mask, labels=b_labels)\n",
    "\n",
    "        logits = outputs[1].detach().cpu().numpy()\n",
    "        label_ids = b_labels.to('cpu').numpy()\n",
    "        eval_loss += outputs[0].item()\n",
    "        predictions.extend(np.argmax(logits, axis=1))\n",
    "        true_labels.extend(label_ids)\n",
    "\n",
    "    eval_loss = eval_loss / len(valid_dataloader)\n",
    "\n",
    "    print(f'''Epoch [{_+1}/{EPOCHS}] total loss complete. Train Loss: {avg_train_loss:.5f}. Val Loss: {eval_loss:.5}''')\n",
    "\n",
    "    pred_tags = [label_dict_inverse[int(p)] for p in predictions]\n",
    "    valid_tags = [label_dict_inverse[int(l)] for l in true_labels]\n",
    "    print(\"Validation Accuracy: {}\".format(accuracy_score(pred_tags, valid_tags)))\n",
    "\n",
    "    # condition setting (model saved)\n",
    "    if accuracy_score(pred_tags, valid_tags)>max(valid_acc):\n",
    "        max_acc = accuracy_score(pred_tags, valid_tags)\n",
    "        min_lss = eval_loss\n",
    "        patient = 0\n",
    "        print(\"saving state dict\")\n",
    "        torch.save(model.state_dict(), f\"qa_model.pt\")\n",
    "    else:\n",
    "        # early stopping\n",
    "        patient += 1\n",
    "        if patient == 3:\n",
    "            print(f'Early Stop. Best Acc {max_acc}')\n",
    "            break\n",
    "\n",
    "    validation_loss_values.append(eval_loss)     \n",
    "    valid_acc.append(accuracy_score(pred_tags, valid_tags))\n",
    "\n",
    "    print()"
   ]
  },
  {
   "cell_type": "code",
   "execution_count": null,
   "metadata": {},
   "outputs": [],
   "source": []
  }
 ],
 "metadata": {
  "kernelspec": {
   "display_name": "Python 3",
   "language": "python",
   "name": "python3"
  },
  "language_info": {
   "codemirror_mode": {
    "name": "ipython",
    "version": 3
   },
   "file_extension": ".py",
   "mimetype": "text/x-python",
   "name": "python",
   "nbconvert_exporter": "python",
   "pygments_lexer": "ipython3",
   "version": "3.6.9"
  }
 },
 "nbformat": 4,
 "nbformat_minor": 4
}
